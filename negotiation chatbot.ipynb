{
 "cells": [
  {
   "cell_type": "code",
   "execution_count": 6,
   "id": "4fcac535",
   "metadata": {},
   "outputs": [
    {
     "name": "stdout",
     "output_type": "stream",
     "text": [
      "Collecting openai\n",
      "  Obtaining dependency information for openai from https://files.pythonhosted.org/packages/d4/2a/97e80a4551346efc9cd937e11adb640207acc5045fdf4e06786eac55bfb1/openai-1.45.0-py3-none-any.whl.metadata\n",
      "  Downloading openai-1.45.0-py3-none-any.whl.metadata (22 kB)\n",
      "Requirement already satisfied: anyio<5,>=3.5.0 in c:\\users\\mew\\anaconda3\\lib\\site-packages (from openai) (3.5.0)\n",
      "Collecting distro<2,>=1.7.0 (from openai)\n",
      "  Obtaining dependency information for distro<2,>=1.7.0 from https://files.pythonhosted.org/packages/12/b3/231ffd4ab1fc9d679809f356cebee130ac7daa00d6d6f3206dd4fd137e9e/distro-1.9.0-py3-none-any.whl.metadata\n",
      "  Downloading distro-1.9.0-py3-none-any.whl.metadata (6.8 kB)\n",
      "Collecting httpx<1,>=0.23.0 (from openai)\n",
      "  Obtaining dependency information for httpx<1,>=0.23.0 from https://files.pythonhosted.org/packages/56/95/9377bcb415797e44274b51d46e3249eba641711cf3348050f76ee7b15ffc/httpx-0.27.2-py3-none-any.whl.metadata\n",
      "  Downloading httpx-0.27.2-py3-none-any.whl.metadata (7.1 kB)\n",
      "Collecting jiter<1,>=0.4.0 (from openai)\n",
      "  Obtaining dependency information for jiter<1,>=0.4.0 from https://files.pythonhosted.org/packages/ab/59/05d1c3203c349b37c4dd28b02b9b4e5915a7bcbd9319173b4548a67d2e93/jiter-0.5.0-cp311-none-win_amd64.whl.metadata\n",
      "  Downloading jiter-0.5.0-cp311-none-win_amd64.whl.metadata (3.7 kB)\n",
      "Collecting pydantic<3,>=1.9.0 (from openai)\n",
      "  Obtaining dependency information for pydantic<3,>=1.9.0 from https://files.pythonhosted.org/packages/e4/28/fff23284071bc1ba419635c7e86561c8b9b8cf62a5bcb459b92d7625fd38/pydantic-2.9.1-py3-none-any.whl.metadata\n",
      "  Downloading pydantic-2.9.1-py3-none-any.whl.metadata (146 kB)\n",
      "     ---------------------------------------- 0.0/147.0 kB ? eta -:--:--\n",
      "     -------- ------------------------------ 30.7/147.0 kB 1.3 MB/s eta 0:00:01\n",
      "     -------------------------------------  143.4/147.0 kB 1.4 MB/s eta 0:00:01\n",
      "     -------------------------------------- 147.0/147.0 kB 1.5 MB/s eta 0:00:00\n",
      "Requirement already satisfied: sniffio in c:\\users\\mew\\anaconda3\\lib\\site-packages (from openai) (1.2.0)\n",
      "Requirement already satisfied: tqdm>4 in c:\\users\\mew\\anaconda3\\lib\\site-packages (from openai) (4.65.0)\n",
      "Collecting typing-extensions<5,>=4.11 (from openai)\n",
      "  Obtaining dependency information for typing-extensions<5,>=4.11 from https://files.pythonhosted.org/packages/26/9f/ad63fc0248c5379346306f8668cda6e2e2e9c95e01216d2b8ffd9ff037d0/typing_extensions-4.12.2-py3-none-any.whl.metadata\n",
      "  Downloading typing_extensions-4.12.2-py3-none-any.whl.metadata (3.0 kB)\n",
      "Requirement already satisfied: idna>=2.8 in c:\\users\\mew\\anaconda3\\lib\\site-packages (from anyio<5,>=3.5.0->openai) (3.4)\n",
      "Requirement already satisfied: certifi in c:\\users\\mew\\anaconda3\\lib\\site-packages (from httpx<1,>=0.23.0->openai) (2023.7.22)\n",
      "Collecting httpcore==1.* (from httpx<1,>=0.23.0->openai)\n",
      "  Obtaining dependency information for httpcore==1.* from https://files.pythonhosted.org/packages/78/d4/e5d7e4f2174f8a4d63c8897d79eb8fe2503f7ecc03282fee1fa2719c2704/httpcore-1.0.5-py3-none-any.whl.metadata\n",
      "  Downloading httpcore-1.0.5-py3-none-any.whl.metadata (20 kB)\n",
      "Collecting h11<0.15,>=0.13 (from httpcore==1.*->httpx<1,>=0.23.0->openai)\n",
      "  Obtaining dependency information for h11<0.15,>=0.13 from https://files.pythonhosted.org/packages/95/04/ff642e65ad6b90db43e668d70ffb6736436c7ce41fcc549f4e9472234127/h11-0.14.0-py3-none-any.whl.metadata\n",
      "  Downloading h11-0.14.0-py3-none-any.whl.metadata (8.2 kB)\n",
      "Collecting annotated-types>=0.6.0 (from pydantic<3,>=1.9.0->openai)\n",
      "  Obtaining dependency information for annotated-types>=0.6.0 from https://files.pythonhosted.org/packages/78/b6/6307fbef88d9b5ee7421e68d78a9f162e0da4900bc5f5793f6d3d0e34fb8/annotated_types-0.7.0-py3-none-any.whl.metadata\n",
      "  Downloading annotated_types-0.7.0-py3-none-any.whl.metadata (15 kB)\n",
      "Collecting pydantic-core==2.23.3 (from pydantic<3,>=1.9.0->openai)\n",
      "  Obtaining dependency information for pydantic-core==2.23.3 from https://files.pythonhosted.org/packages/4f/ff/6dc33f3b71e34ef633e35d6476d245bf303fc3eaf18a00f39bb54f78faf3/pydantic_core-2.23.3-cp311-none-win_amd64.whl.metadata\n",
      "  Downloading pydantic_core-2.23.3-cp311-none-win_amd64.whl.metadata (6.7 kB)\n",
      "Requirement already satisfied: colorama in c:\\users\\mew\\anaconda3\\lib\\site-packages (from tqdm>4->openai) (0.4.6)\n",
      "Downloading openai-1.45.0-py3-none-any.whl (374 kB)\n",
      "   ---------------------------------------- 0.0/374.1 kB ? eta -:--:--\n",
      "   ------------- -------------------------- 122.9/374.1 kB 7.5 MB/s eta 0:00:01\n",
      "   ---------------------------------------- 374.1/374.1 kB 5.9 MB/s eta 0:00:00\n",
      "Downloading distro-1.9.0-py3-none-any.whl (20 kB)\n",
      "Downloading httpx-0.27.2-py3-none-any.whl (76 kB)\n",
      "   ---------------------------------------- 0.0/76.4 kB ? eta -:--:--\n",
      "   ---------------------------------------- 76.4/76.4 kB ? eta 0:00:00\n",
      "Downloading httpcore-1.0.5-py3-none-any.whl (77 kB)\n",
      "   ---------------------------------------- 0.0/77.9 kB ? eta -:--:--\n",
      "   ---------------------------------------- 77.9/77.9 kB ? eta 0:00:00\n",
      "Downloading jiter-0.5.0-cp311-none-win_amd64.whl (191 kB)\n",
      "   ---------------------------------------- 0.0/191.0 kB ? eta -:--:--\n",
      "   ---------------------------------------- 191.0/191.0 kB ? eta 0:00:00\n",
      "Downloading pydantic-2.9.1-py3-none-any.whl (434 kB)\n",
      "   ---------------------------------------- 0.0/434.4 kB ? eta -:--:--\n",
      "   --------------------------------------- 434.4/434.4 kB 13.7 MB/s eta 0:00:00\n",
      "Downloading pydantic_core-2.23.3-cp311-none-win_amd64.whl (1.9 MB)\n",
      "   ---------------------------------------- 0.0/1.9 MB ? eta -:--:--\n",
      "   -------- ------------------------------- 0.4/1.9 MB 8.5 MB/s eta 0:00:01\n",
      "   ------------ --------------------------- 0.6/1.9 MB 6.2 MB/s eta 0:00:01\n",
      "   ---------------- ----------------------- 0.8/1.9 MB 5.5 MB/s eta 0:00:01\n",
      "   ------------------- -------------------- 0.9/1.9 MB 5.0 MB/s eta 0:00:01\n",
      "   ------------------- -------------------- 0.9/1.9 MB 5.0 MB/s eta 0:00:01\n",
      "   ------------------- -------------------- 0.9/1.9 MB 5.0 MB/s eta 0:00:01\n",
      "   ------------------- -------------------- 0.9/1.9 MB 5.0 MB/s eta 0:00:01\n",
      "   --------------------- ------------------ 1.0/1.9 MB 3.0 MB/s eta 0:00:01\n",
      "   ------------------------ --------------- 1.2/1.9 MB 3.1 MB/s eta 0:00:01\n",
      "   --------------------------- ------------ 1.3/1.9 MB 3.1 MB/s eta 0:00:01\n",
      "   --------------------------- ------------ 1.3/1.9 MB 3.1 MB/s eta 0:00:01\n",
      "   --------------------------- ------------ 1.3/1.9 MB 2.6 MB/s eta 0:00:01\n",
      "   ---------------------------- ----------- 1.4/1.9 MB 2.5 MB/s eta 0:00:01\n",
      "   ------------------------------ --------- 1.5/1.9 MB 2.4 MB/s eta 0:00:01\n",
      "   --------------------------------- ------ 1.6/1.9 MB 2.3 MB/s eta 0:00:01\n",
      "   ----------------------------------- ---- 1.7/1.9 MB 2.3 MB/s eta 0:00:01\n",
      "   ------------------------------------ --- 1.8/1.9 MB 2.3 MB/s eta 0:00:01\n",
      "   -------------------------------------- - 1.8/1.9 MB 2.2 MB/s eta 0:00:01\n",
      "   -------------------------------------- - 1.9/1.9 MB 2.2 MB/s eta 0:00:01\n",
      "   ---------------------------------------  1.9/1.9 MB 2.1 MB/s eta 0:00:01\n",
      "   ---------------------------------------- 1.9/1.9 MB 2.1 MB/s eta 0:00:00\n",
      "Downloading typing_extensions-4.12.2-py3-none-any.whl (37 kB)\n",
      "Downloading annotated_types-0.7.0-py3-none-any.whl (13 kB)\n",
      "Downloading h11-0.14.0-py3-none-any.whl (58 kB)\n",
      "   ---------------------------------------- 0.0/58.3 kB ? eta -:--:--\n",
      "   ---------------------------------------- 58.3/58.3 kB ? eta 0:00:00\n",
      "Installing collected packages: typing-extensions, jiter, h11, distro, annotated-types, pydantic-core, httpcore, pydantic, httpx, openai\n",
      "  Attempting uninstall: typing-extensions\n",
      "    Found existing installation: typing_extensions 4.7.1\n",
      "    Uninstalling typing_extensions-4.7.1:\n",
      "      Successfully uninstalled typing_extensions-4.7.1\n",
      "Successfully installed annotated-types-0.7.0 distro-1.9.0 h11-0.14.0 httpcore-1.0.5 httpx-0.27.2 jiter-0.5.0 openai-1.45.0 pydantic-2.9.1 pydantic-core-2.23.3 typing-extensions-4.12.2\n",
      "Note: you may need to restart the kernel to use updated packages.\n"
     ]
    }
   ],
   "source": [
    "pip install openai\n"
   ]
  },
  {
   "cell_type": "code",
   "execution_count": 10,
   "id": "10952690",
   "metadata": {},
   "outputs": [
    {
     "name": "stdout",
     "output_type": "stream",
     "text": [
      "Collecting textblob\n",
      "  Obtaining dependency information for textblob from https://files.pythonhosted.org/packages/02/07/5fd2945356dd839974d3a25de8a142dc37293c21315729a41e775b5f3569/textblob-0.18.0.post0-py3-none-any.whl.metadata\n",
      "  Downloading textblob-0.18.0.post0-py3-none-any.whl.metadata (4.5 kB)\n",
      "Requirement already satisfied: nltk>=3.8 in c:\\users\\mew\\anaconda3\\lib\\site-packages (from textblob) (3.8.1)\n",
      "Requirement already satisfied: click in c:\\users\\mew\\anaconda3\\lib\\site-packages (from nltk>=3.8->textblob) (8.0.4)\n",
      "Requirement already satisfied: joblib in c:\\users\\mew\\anaconda3\\lib\\site-packages (from nltk>=3.8->textblob) (1.2.0)\n",
      "Requirement already satisfied: regex>=2021.8.3 in c:\\users\\mew\\anaconda3\\lib\\site-packages (from nltk>=3.8->textblob) (2022.7.9)\n",
      "Requirement already satisfied: tqdm in c:\\users\\mew\\anaconda3\\lib\\site-packages (from nltk>=3.8->textblob) (4.65.0)\n",
      "Requirement already satisfied: colorama in c:\\users\\mew\\anaconda3\\lib\\site-packages (from click->nltk>=3.8->textblob) (0.4.6)\n",
      "Downloading textblob-0.18.0.post0-py3-none-any.whl (626 kB)\n",
      "   ---------------------------------------- 0.0/626.3 kB ? eta -:--:--\n",
      "   -- ------------------------------------ 41.0/626.3 kB 991.0 kB/s eta 0:00:01\n",
      "   ------------ --------------------------- 194.6/626.3 kB 2.4 MB/s eta 0:00:01\n",
      "   ---------------------------------------  624.6/626.3 kB 4.9 MB/s eta 0:00:01\n",
      "   ---------------------------------------- 626.3/626.3 kB 4.4 MB/s eta 0:00:00\n",
      "Installing collected packages: textblob\n",
      "Successfully installed textblob-0.18.0.post0\n",
      "Note: you may need to restart the kernel to use updated packages.\n"
     ]
    }
   ],
   "source": [
    "pip install textblob\n"
   ]
  },
  {
   "cell_type": "code",
   "execution_count": 11,
   "id": "e0dceaa3",
   "metadata": {},
   "outputs": [],
   "source": [
    "import openai\n",
    "from textblob import TextBlob"
   ]
  },
  {
   "cell_type": "code",
   "execution_count": 12,
   "id": "2b5a499e",
   "metadata": {},
   "outputs": [],
   "source": [
    "def get_user_input(prompt):\n",
    "    return input(prompt)"
   ]
  },
  {
   "cell_type": "code",
   "execution_count": 13,
   "id": "49403cdf",
   "metadata": {},
   "outputs": [],
   "source": [
    "def analyze_sentiment(text):\n",
    "    blob = TextBlob(text)\n",
    "    sentiment = blob.sentiment.polarity\n",
    "    if sentiment > 0.1:\n",
    "        return \"positive\"\n",
    "    elif sentiment < -0.1:\n",
    "        return \"negative\"\n",
    "    else:\n",
    "        return \"neutral\"\n"
   ]
  },
  {
   "cell_type": "code",
   "execution_count": 14,
   "id": "94a8c06d",
   "metadata": {},
   "outputs": [],
   "source": [
    "def negotiate_price(actual_price, discount):\n",
    "    while True:\n",
    "        user_offer = float(get_user_input(f\"The actual price is ${actual_price}. How much would you like to offer? \"))\n",
    "        counter_offer = max(actual_price * (1 - discount / 100), user_offer + 2)\n",
    "        print(f\"Supplier's counter-offer: ${counter_offer:.2f} (after {discount}% discount)\")\n",
    "        \n",
    "        response = get_user_input(\"Do you accept this offer? (yes/no) \")\n",
    "        sentiment = analyze_sentiment(response)\n",
    "        print(f\"User's sentiment: {sentiment}\")\n",
    "        if response.lower() == 'yes':\n",
    "            print(\"Done deal!\")\n",
    "            break\n",
    "        else:\n",
    "            if sentiment == \"negative\":\n",
    "                discount += 3  # Give a higher discount if the user is unhappy\n",
    "            else:\n",
    "                discount += 2  # Normal discount increase\n",
    "            print(f\"Discount increased to {discount}%.Let's continue negotiating.\") "
   ]
  },
  {
   "cell_type": "code",
   "execution_count": 15,
   "id": "0b65a510",
   "metadata": {},
   "outputs": [
    {
     "name": "stdout",
     "output_type": "stream",
     "text": [
      "The actual price is $300. How much would you like to offer? 260\n",
      "Supplier's counter-offer: $270.00 (after 10% discount)\n",
      "Do you accept this offer? (yes/no) no\n",
      "User's sentiment: neutral\n",
      "Discount increased to 12%.Let's continue negotiating.\n",
      "The actual price is $300. How much would you like to offer? 261\n",
      "Supplier's counter-offer: $264.00 (after 12% discount)\n",
      "Do you accept this offer? (yes/no) 261\n",
      "User's sentiment: neutral\n",
      "Discount increased to 14%.Let's continue negotiating.\n",
      "The actual price is $300. How much would you like to offer? 261\n",
      "Supplier's counter-offer: $263.00 (after 14% discount)\n",
      "Do you accept this offer? (yes/no) yes\n",
      "User's sentiment: neutral\n",
      "Done deal!\n"
     ]
    }
   ],
   "source": [
    " negotiate_price(actual_price, discount)"
   ]
  },
  {
   "cell_type": "code",
   "execution_count": null,
   "id": "c98e57cc",
   "metadata": {},
   "outputs": [],
   "source": []
  }
 ],
 "metadata": {
  "kernelspec": {
   "display_name": "Python 3 (ipykernel)",
   "language": "python",
   "name": "python3"
  },
  "language_info": {
   "codemirror_mode": {
    "name": "ipython",
    "version": 3
   },
   "file_extension": ".py",
   "mimetype": "text/x-python",
   "name": "python",
   "nbconvert_exporter": "python",
   "pygments_lexer": "ipython3",
   "version": "3.11.4"
  }
 },
 "nbformat": 4,
 "nbformat_minor": 5
}
